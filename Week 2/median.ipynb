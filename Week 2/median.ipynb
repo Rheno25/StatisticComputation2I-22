{
 "cells": [
  {
   "cell_type": "code",
   "execution_count": 1,
   "metadata": {
    "collapsed": true
   },
   "outputs": [
    {
     "name": "stdout",
     "output_type": "stream",
     "text": [
      "Apel_sort : 80 90 100 100 110 120 150 160 170 200\n",
      "115.0\n"
     ]
    }
   ],
   "source": [
    "import numpy as np\n",
    "apel = [100, 200, 150, 100, 120, 80, 90, 160, 110, 170]\n",
    "med_apel = np.median(apel)\n",
    "apel.sort()\n",
    "apel_sort = ' '.join(map(str, apel))\n",
    "print('Apel_sort : {:s}'.format(apel_sort))\n",
    "print(med_apel)"
   ]
  },
  {
   "cell_type": "code",
   "execution_count": null,
   "outputs": [],
   "source": [],
   "metadata": {
    "collapsed": false
   }
  }
 ],
 "metadata": {
  "kernelspec": {
   "display_name": "Python 3",
   "language": "python",
   "name": "python3"
  },
  "language_info": {
   "codemirror_mode": {
    "name": "ipython",
    "version": 2
   },
   "file_extension": ".py",
   "mimetype": "text/x-python",
   "name": "python",
   "nbconvert_exporter": "python",
   "pygments_lexer": "ipython2",
   "version": "2.7.6"
  }
 },
 "nbformat": 4,
 "nbformat_minor": 0
}
