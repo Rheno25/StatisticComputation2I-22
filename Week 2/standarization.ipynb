{
 "cells": [
  {
   "cell_type": "code",
   "execution_count": null,
   "metadata": {
    "collapsed": true
   },
   "outputs": [],
   "source": [
    "import numpy as np\n",
    "import matplotlib.pyplot as plt\n",
    "from sklearn.preprocessing import MinMaxScaler, StandardScaler\n",
    "\n",
    "data_raw = np.array([\n",
    "    [2, 3, 7, 30],\n",
    "    [9, 4, 6, 1],\n",
    "    [8, 15, 2, 40],\n",
    "    [20, 10, 2, 6]\n",
    "])\n",
    "\n",
    "stand = StandardScaler()\n",
    "data_stand = stand.fit_transform(data_raw)\n",
    "\n",
    "plt.boxplot(data_stand)"
   ]
  }
 ],
 "metadata": {
  "kernelspec": {
   "display_name": "Python 3",
   "language": "python",
   "name": "python3"
  },
  "language_info": {
   "codemirror_mode": {
    "name": "ipython",
    "version": 2
   },
   "file_extension": ".py",
   "mimetype": "text/x-python",
   "name": "python",
   "nbconvert_exporter": "python",
   "pygments_lexer": "ipython2",
   "version": "2.7.6"
  }
 },
 "nbformat": 4,
 "nbformat_minor": 0
}
